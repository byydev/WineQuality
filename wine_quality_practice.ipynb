{
 "cells": [
  {
   "cell_type": "code",
   "execution_count": 1,
   "id": "470ae82a",
   "metadata": {
    "_cell_guid": "b1076dfc-b9ad-4769-8c92-a6c4dae69d19",
    "_uuid": "8f2839f25d086af736a60e9eeb907d3b93b6e0e5",
    "execution": {
     "iopub.execute_input": "2025-09-07T22:15:25.277509Z",
     "iopub.status.busy": "2025-09-07T22:15:25.277134Z",
     "iopub.status.idle": "2025-09-07T22:15:27.565980Z",
     "shell.execute_reply": "2025-09-07T22:15:27.564727Z"
    },
    "papermill": {
     "duration": 2.297788,
     "end_time": "2025-09-07T22:15:27.567934",
     "exception": false,
     "start_time": "2025-09-07T22:15:25.270146",
     "status": "completed"
    },
    "tags": []
   },
   "outputs": [
    {
     "name": "stdout",
     "output_type": "stream",
     "text": [
      "/kaggle/input/wine-quality-dataset/WineQT.csv\n"
     ]
    }
   ],
   "source": [
    "# This Python 3 environment comes with many helpful analytics libraries installed\n",
    "# It is defined by the kaggle/python Docker image: https://github.com/kaggle/docker-python\n",
    "# For example, here's several helpful packages to load\n",
    "\n",
    "import numpy as np # linear algebra\n",
    "import pandas as pd # data processing, CSV file I/O (e.g. pd.read_csv)\n",
    "\n",
    "# Input data files are available in the read-only \"../input/\" directory\n",
    "# For example, running this (by clicking run or pressing Shift+Enter) will list all files under the input directory\n",
    "\n",
    "import os\n",
    "for dirname, _, filenames in os.walk('/kaggle/input'):\n",
    "    for filename in filenames:\n",
    "        print(os.path.join(dirname, filename))\n",
    "\n",
    "# You can write up to 20GB to the current directory (/kaggle/working/) that gets preserved as output when you create a version using \"Save & Run All\" \n",
    "# You can also write temporary files to /kaggle/temp/, but they won't be saved outside of the current session"
   ]
  },
  {
   "cell_type": "code",
   "execution_count": 2,
   "id": "76ff31a5",
   "metadata": {
    "execution": {
     "iopub.execute_input": "2025-09-07T22:15:27.577679Z",
     "iopub.status.busy": "2025-09-07T22:15:27.577188Z",
     "iopub.status.idle": "2025-09-07T22:15:29.847542Z",
     "shell.execute_reply": "2025-09-07T22:15:29.846273Z"
    },
    "papermill": {
     "duration": 2.277206,
     "end_time": "2025-09-07T22:15:29.849474",
     "exception": false,
     "start_time": "2025-09-07T22:15:27.572268",
     "status": "completed"
    },
    "tags": []
   },
   "outputs": [],
   "source": [
    "import seaborn as sns\n",
    "import matplotlib.pyplot as plt\n"
   ]
  },
  {
   "cell_type": "markdown",
   "id": "6cbeef8c",
   "metadata": {
    "papermill": {
     "duration": 0.003542,
     "end_time": "2025-09-07T22:15:29.857405",
     "exception": false,
     "start_time": "2025-09-07T22:15:29.853863",
     "status": "completed"
    },
    "tags": []
   },
   "source": [
    "# Dataset"
   ]
  },
  {
   "cell_type": "code",
   "execution_count": 3,
   "id": "55900176",
   "metadata": {
    "execution": {
     "iopub.execute_input": "2025-09-07T22:15:29.866648Z",
     "iopub.status.busy": "2025-09-07T22:15:29.866226Z",
     "iopub.status.idle": "2025-09-07T22:15:29.890569Z",
     "shell.execute_reply": "2025-09-07T22:15:29.889485Z"
    },
    "papermill": {
     "duration": 0.031006,
     "end_time": "2025-09-07T22:15:29.892400",
     "exception": false,
     "start_time": "2025-09-07T22:15:29.861394",
     "status": "completed"
    },
    "tags": []
   },
   "outputs": [],
   "source": [
    "df=pd.read_csv('/kaggle/input/wine-quality-dataset/WineQT.csv')"
   ]
  },
  {
   "cell_type": "markdown",
   "id": "34ee3981",
   "metadata": {
    "papermill": {
     "duration": 0.003542,
     "end_time": "2025-09-07T22:15:29.900039",
     "exception": false,
     "start_time": "2025-09-07T22:15:29.896497",
     "status": "completed"
    },
    "tags": []
   },
   "source": [
    "# EDA"
   ]
  },
  {
   "cell_type": "code",
   "execution_count": 4,
   "id": "71596072",
   "metadata": {
    "execution": {
     "iopub.execute_input": "2025-09-07T22:15:29.908811Z",
     "iopub.status.busy": "2025-09-07T22:15:29.908418Z",
     "iopub.status.idle": "2025-09-07T22:15:29.943200Z",
     "shell.execute_reply": "2025-09-07T22:15:29.942220Z"
    },
    "papermill": {
     "duration": 0.041396,
     "end_time": "2025-09-07T22:15:29.945184",
     "exception": false,
     "start_time": "2025-09-07T22:15:29.903788",
     "status": "completed"
    },
    "tags": []
   },
   "outputs": [
    {
     "data": {
      "text/html": [
       "<div>\n",
       "<style scoped>\n",
       "    .dataframe tbody tr th:only-of-type {\n",
       "        vertical-align: middle;\n",
       "    }\n",
       "\n",
       "    .dataframe tbody tr th {\n",
       "        vertical-align: top;\n",
       "    }\n",
       "\n",
       "    .dataframe thead th {\n",
       "        text-align: right;\n",
       "    }\n",
       "</style>\n",
       "<table border=\"1\" class=\"dataframe\">\n",
       "  <thead>\n",
       "    <tr style=\"text-align: right;\">\n",
       "      <th></th>\n",
       "      <th>fixed acidity</th>\n",
       "      <th>volatile acidity</th>\n",
       "      <th>citric acid</th>\n",
       "      <th>residual sugar</th>\n",
       "      <th>chlorides</th>\n",
       "      <th>free sulfur dioxide</th>\n",
       "      <th>total sulfur dioxide</th>\n",
       "      <th>density</th>\n",
       "      <th>pH</th>\n",
       "      <th>sulphates</th>\n",
       "      <th>alcohol</th>\n",
       "      <th>quality</th>\n",
       "      <th>Id</th>\n",
       "    </tr>\n",
       "  </thead>\n",
       "  <tbody>\n",
       "    <tr>\n",
       "      <th>0</th>\n",
       "      <td>7.4</td>\n",
       "      <td>0.70</td>\n",
       "      <td>0.00</td>\n",
       "      <td>1.9</td>\n",
       "      <td>0.076</td>\n",
       "      <td>11.0</td>\n",
       "      <td>34.0</td>\n",
       "      <td>0.9978</td>\n",
       "      <td>3.51</td>\n",
       "      <td>0.56</td>\n",
       "      <td>9.4</td>\n",
       "      <td>5</td>\n",
       "      <td>0</td>\n",
       "    </tr>\n",
       "    <tr>\n",
       "      <th>1</th>\n",
       "      <td>7.8</td>\n",
       "      <td>0.88</td>\n",
       "      <td>0.00</td>\n",
       "      <td>2.6</td>\n",
       "      <td>0.098</td>\n",
       "      <td>25.0</td>\n",
       "      <td>67.0</td>\n",
       "      <td>0.9968</td>\n",
       "      <td>3.20</td>\n",
       "      <td>0.68</td>\n",
       "      <td>9.8</td>\n",
       "      <td>5</td>\n",
       "      <td>1</td>\n",
       "    </tr>\n",
       "    <tr>\n",
       "      <th>2</th>\n",
       "      <td>7.8</td>\n",
       "      <td>0.76</td>\n",
       "      <td>0.04</td>\n",
       "      <td>2.3</td>\n",
       "      <td>0.092</td>\n",
       "      <td>15.0</td>\n",
       "      <td>54.0</td>\n",
       "      <td>0.9970</td>\n",
       "      <td>3.26</td>\n",
       "      <td>0.65</td>\n",
       "      <td>9.8</td>\n",
       "      <td>5</td>\n",
       "      <td>2</td>\n",
       "    </tr>\n",
       "    <tr>\n",
       "      <th>3</th>\n",
       "      <td>11.2</td>\n",
       "      <td>0.28</td>\n",
       "      <td>0.56</td>\n",
       "      <td>1.9</td>\n",
       "      <td>0.075</td>\n",
       "      <td>17.0</td>\n",
       "      <td>60.0</td>\n",
       "      <td>0.9980</td>\n",
       "      <td>3.16</td>\n",
       "      <td>0.58</td>\n",
       "      <td>9.8</td>\n",
       "      <td>6</td>\n",
       "      <td>3</td>\n",
       "    </tr>\n",
       "    <tr>\n",
       "      <th>4</th>\n",
       "      <td>7.4</td>\n",
       "      <td>0.70</td>\n",
       "      <td>0.00</td>\n",
       "      <td>1.9</td>\n",
       "      <td>0.076</td>\n",
       "      <td>11.0</td>\n",
       "      <td>34.0</td>\n",
       "      <td>0.9978</td>\n",
       "      <td>3.51</td>\n",
       "      <td>0.56</td>\n",
       "      <td>9.4</td>\n",
       "      <td>5</td>\n",
       "      <td>4</td>\n",
       "    </tr>\n",
       "  </tbody>\n",
       "</table>\n",
       "</div>"
      ],
      "text/plain": [
       "   fixed acidity  volatile acidity  citric acid  residual sugar  chlorides  \\\n",
       "0            7.4              0.70         0.00             1.9      0.076   \n",
       "1            7.8              0.88         0.00             2.6      0.098   \n",
       "2            7.8              0.76         0.04             2.3      0.092   \n",
       "3           11.2              0.28         0.56             1.9      0.075   \n",
       "4            7.4              0.70         0.00             1.9      0.076   \n",
       "\n",
       "   free sulfur dioxide  total sulfur dioxide  density    pH  sulphates  \\\n",
       "0                 11.0                  34.0   0.9978  3.51       0.56   \n",
       "1                 25.0                  67.0   0.9968  3.20       0.68   \n",
       "2                 15.0                  54.0   0.9970  3.26       0.65   \n",
       "3                 17.0                  60.0   0.9980  3.16       0.58   \n",
       "4                 11.0                  34.0   0.9978  3.51       0.56   \n",
       "\n",
       "   alcohol  quality  Id  \n",
       "0      9.4        5   0  \n",
       "1      9.8        5   1  \n",
       "2      9.8        5   2  \n",
       "3      9.8        6   3  \n",
       "4      9.4        5   4  "
      ]
     },
     "execution_count": 4,
     "metadata": {},
     "output_type": "execute_result"
    }
   ],
   "source": [
    "df.head()"
   ]
  },
  {
   "cell_type": "code",
   "execution_count": 5,
   "id": "3a0a6b0f",
   "metadata": {
    "execution": {
     "iopub.execute_input": "2025-09-07T22:15:29.955847Z",
     "iopub.status.busy": "2025-09-07T22:15:29.954734Z",
     "iopub.status.idle": "2025-09-07T22:15:30.003081Z",
     "shell.execute_reply": "2025-09-07T22:15:30.001874Z"
    },
    "papermill": {
     "duration": 0.055593,
     "end_time": "2025-09-07T22:15:30.005297",
     "exception": false,
     "start_time": "2025-09-07T22:15:29.949704",
     "status": "completed"
    },
    "tags": []
   },
   "outputs": [
    {
     "data": {
      "text/html": [
       "<div>\n",
       "<style scoped>\n",
       "    .dataframe tbody tr th:only-of-type {\n",
       "        vertical-align: middle;\n",
       "    }\n",
       "\n",
       "    .dataframe tbody tr th {\n",
       "        vertical-align: top;\n",
       "    }\n",
       "\n",
       "    .dataframe thead th {\n",
       "        text-align: right;\n",
       "    }\n",
       "</style>\n",
       "<table border=\"1\" class=\"dataframe\">\n",
       "  <thead>\n",
       "    <tr style=\"text-align: right;\">\n",
       "      <th></th>\n",
       "      <th>fixed acidity</th>\n",
       "      <th>volatile acidity</th>\n",
       "      <th>citric acid</th>\n",
       "      <th>residual sugar</th>\n",
       "      <th>chlorides</th>\n",
       "      <th>free sulfur dioxide</th>\n",
       "      <th>total sulfur dioxide</th>\n",
       "      <th>density</th>\n",
       "      <th>pH</th>\n",
       "      <th>sulphates</th>\n",
       "      <th>alcohol</th>\n",
       "      <th>quality</th>\n",
       "      <th>Id</th>\n",
       "    </tr>\n",
       "  </thead>\n",
       "  <tbody>\n",
       "    <tr>\n",
       "      <th>count</th>\n",
       "      <td>1143.000000</td>\n",
       "      <td>1143.000000</td>\n",
       "      <td>1143.000000</td>\n",
       "      <td>1143.000000</td>\n",
       "      <td>1143.000000</td>\n",
       "      <td>1143.000000</td>\n",
       "      <td>1143.000000</td>\n",
       "      <td>1143.000000</td>\n",
       "      <td>1143.000000</td>\n",
       "      <td>1143.000000</td>\n",
       "      <td>1143.000000</td>\n",
       "      <td>1143.000000</td>\n",
       "      <td>1143.000000</td>\n",
       "    </tr>\n",
       "    <tr>\n",
       "      <th>mean</th>\n",
       "      <td>8.311111</td>\n",
       "      <td>0.531339</td>\n",
       "      <td>0.268364</td>\n",
       "      <td>2.532152</td>\n",
       "      <td>0.086933</td>\n",
       "      <td>15.615486</td>\n",
       "      <td>45.914698</td>\n",
       "      <td>0.996730</td>\n",
       "      <td>3.311015</td>\n",
       "      <td>0.657708</td>\n",
       "      <td>10.442111</td>\n",
       "      <td>5.657043</td>\n",
       "      <td>804.969379</td>\n",
       "    </tr>\n",
       "    <tr>\n",
       "      <th>std</th>\n",
       "      <td>1.747595</td>\n",
       "      <td>0.179633</td>\n",
       "      <td>0.196686</td>\n",
       "      <td>1.355917</td>\n",
       "      <td>0.047267</td>\n",
       "      <td>10.250486</td>\n",
       "      <td>32.782130</td>\n",
       "      <td>0.001925</td>\n",
       "      <td>0.156664</td>\n",
       "      <td>0.170399</td>\n",
       "      <td>1.082196</td>\n",
       "      <td>0.805824</td>\n",
       "      <td>463.997116</td>\n",
       "    </tr>\n",
       "    <tr>\n",
       "      <th>min</th>\n",
       "      <td>4.600000</td>\n",
       "      <td>0.120000</td>\n",
       "      <td>0.000000</td>\n",
       "      <td>0.900000</td>\n",
       "      <td>0.012000</td>\n",
       "      <td>1.000000</td>\n",
       "      <td>6.000000</td>\n",
       "      <td>0.990070</td>\n",
       "      <td>2.740000</td>\n",
       "      <td>0.330000</td>\n",
       "      <td>8.400000</td>\n",
       "      <td>3.000000</td>\n",
       "      <td>0.000000</td>\n",
       "    </tr>\n",
       "    <tr>\n",
       "      <th>25%</th>\n",
       "      <td>7.100000</td>\n",
       "      <td>0.392500</td>\n",
       "      <td>0.090000</td>\n",
       "      <td>1.900000</td>\n",
       "      <td>0.070000</td>\n",
       "      <td>7.000000</td>\n",
       "      <td>21.000000</td>\n",
       "      <td>0.995570</td>\n",
       "      <td>3.205000</td>\n",
       "      <td>0.550000</td>\n",
       "      <td>9.500000</td>\n",
       "      <td>5.000000</td>\n",
       "      <td>411.000000</td>\n",
       "    </tr>\n",
       "    <tr>\n",
       "      <th>50%</th>\n",
       "      <td>7.900000</td>\n",
       "      <td>0.520000</td>\n",
       "      <td>0.250000</td>\n",
       "      <td>2.200000</td>\n",
       "      <td>0.079000</td>\n",
       "      <td>13.000000</td>\n",
       "      <td>37.000000</td>\n",
       "      <td>0.996680</td>\n",
       "      <td>3.310000</td>\n",
       "      <td>0.620000</td>\n",
       "      <td>10.200000</td>\n",
       "      <td>6.000000</td>\n",
       "      <td>794.000000</td>\n",
       "    </tr>\n",
       "    <tr>\n",
       "      <th>75%</th>\n",
       "      <td>9.100000</td>\n",
       "      <td>0.640000</td>\n",
       "      <td>0.420000</td>\n",
       "      <td>2.600000</td>\n",
       "      <td>0.090000</td>\n",
       "      <td>21.000000</td>\n",
       "      <td>61.000000</td>\n",
       "      <td>0.997845</td>\n",
       "      <td>3.400000</td>\n",
       "      <td>0.730000</td>\n",
       "      <td>11.100000</td>\n",
       "      <td>6.000000</td>\n",
       "      <td>1209.500000</td>\n",
       "    </tr>\n",
       "    <tr>\n",
       "      <th>max</th>\n",
       "      <td>15.900000</td>\n",
       "      <td>1.580000</td>\n",
       "      <td>1.000000</td>\n",
       "      <td>15.500000</td>\n",
       "      <td>0.611000</td>\n",
       "      <td>68.000000</td>\n",
       "      <td>289.000000</td>\n",
       "      <td>1.003690</td>\n",
       "      <td>4.010000</td>\n",
       "      <td>2.000000</td>\n",
       "      <td>14.900000</td>\n",
       "      <td>8.000000</td>\n",
       "      <td>1597.000000</td>\n",
       "    </tr>\n",
       "  </tbody>\n",
       "</table>\n",
       "</div>"
      ],
      "text/plain": [
       "       fixed acidity  volatile acidity  citric acid  residual sugar  \\\n",
       "count    1143.000000       1143.000000  1143.000000     1143.000000   \n",
       "mean        8.311111          0.531339     0.268364        2.532152   \n",
       "std         1.747595          0.179633     0.196686        1.355917   \n",
       "min         4.600000          0.120000     0.000000        0.900000   \n",
       "25%         7.100000          0.392500     0.090000        1.900000   \n",
       "50%         7.900000          0.520000     0.250000        2.200000   \n",
       "75%         9.100000          0.640000     0.420000        2.600000   \n",
       "max        15.900000          1.580000     1.000000       15.500000   \n",
       "\n",
       "         chlorides  free sulfur dioxide  total sulfur dioxide      density  \\\n",
       "count  1143.000000          1143.000000           1143.000000  1143.000000   \n",
       "mean      0.086933            15.615486             45.914698     0.996730   \n",
       "std       0.047267            10.250486             32.782130     0.001925   \n",
       "min       0.012000             1.000000              6.000000     0.990070   \n",
       "25%       0.070000             7.000000             21.000000     0.995570   \n",
       "50%       0.079000            13.000000             37.000000     0.996680   \n",
       "75%       0.090000            21.000000             61.000000     0.997845   \n",
       "max       0.611000            68.000000            289.000000     1.003690   \n",
       "\n",
       "                pH    sulphates      alcohol      quality           Id  \n",
       "count  1143.000000  1143.000000  1143.000000  1143.000000  1143.000000  \n",
       "mean      3.311015     0.657708    10.442111     5.657043   804.969379  \n",
       "std       0.156664     0.170399     1.082196     0.805824   463.997116  \n",
       "min       2.740000     0.330000     8.400000     3.000000     0.000000  \n",
       "25%       3.205000     0.550000     9.500000     5.000000   411.000000  \n",
       "50%       3.310000     0.620000    10.200000     6.000000   794.000000  \n",
       "75%       3.400000     0.730000    11.100000     6.000000  1209.500000  \n",
       "max       4.010000     2.000000    14.900000     8.000000  1597.000000  "
      ]
     },
     "execution_count": 5,
     "metadata": {},
     "output_type": "execute_result"
    }
   ],
   "source": [
    "df.describe()"
   ]
  },
  {
   "cell_type": "code",
   "execution_count": 6,
   "id": "ded7e6cc",
   "metadata": {
    "execution": {
     "iopub.execute_input": "2025-09-07T22:15:30.016028Z",
     "iopub.status.busy": "2025-09-07T22:15:30.015406Z",
     "iopub.status.idle": "2025-09-07T22:15:30.025149Z",
     "shell.execute_reply": "2025-09-07T22:15:30.024015Z"
    },
    "papermill": {
     "duration": 0.016837,
     "end_time": "2025-09-07T22:15:30.026803",
     "exception": false,
     "start_time": "2025-09-07T22:15:30.009966",
     "status": "completed"
    },
    "tags": []
   },
   "outputs": [
    {
     "data": {
      "text/plain": [
       "fixed acidity           1143\n",
       "volatile acidity        1143\n",
       "citric acid             1143\n",
       "residual sugar          1143\n",
       "chlorides               1143\n",
       "free sulfur dioxide     1143\n",
       "total sulfur dioxide    1143\n",
       "density                 1143\n",
       "pH                      1143\n",
       "sulphates               1143\n",
       "alcohol                 1143\n",
       "quality                 1143\n",
       "Id                      1143\n",
       "dtype: int64"
      ]
     },
     "execution_count": 6,
     "metadata": {},
     "output_type": "execute_result"
    }
   ],
   "source": [
    "df.count()"
   ]
  },
  {
   "cell_type": "code",
   "execution_count": 7,
   "id": "c650977c",
   "metadata": {
    "execution": {
     "iopub.execute_input": "2025-09-07T22:15:30.037563Z",
     "iopub.status.busy": "2025-09-07T22:15:30.037122Z",
     "iopub.status.idle": "2025-09-07T22:15:30.047414Z",
     "shell.execute_reply": "2025-09-07T22:15:30.046214Z"
    },
    "papermill": {
     "duration": 0.018071,
     "end_time": "2025-09-07T22:15:30.049604",
     "exception": false,
     "start_time": "2025-09-07T22:15:30.031533",
     "status": "completed"
    },
    "tags": []
   },
   "outputs": [],
   "source": [
    "mean_df=df.mean()\n",
    "median_df=df.median()\n",
    "\n",
    "summary=pd.concat([mean_df,median_df],axis=1)\n",
    "summary.columns=[\"mean\",\"median\"]"
   ]
  },
  {
   "cell_type": "code",
   "execution_count": 8,
   "id": "42d023a9",
   "metadata": {
    "execution": {
     "iopub.execute_input": "2025-09-07T22:15:30.060250Z",
     "iopub.status.busy": "2025-09-07T22:15:30.059903Z",
     "iopub.status.idle": "2025-09-07T22:15:30.070471Z",
     "shell.execute_reply": "2025-09-07T22:15:30.069575Z"
    },
    "papermill": {
     "duration": 0.017943,
     "end_time": "2025-09-07T22:15:30.072239",
     "exception": false,
     "start_time": "2025-09-07T22:15:30.054296",
     "status": "completed"
    },
    "tags": []
   },
   "outputs": [
    {
     "data": {
      "text/html": [
       "<div>\n",
       "<style scoped>\n",
       "    .dataframe tbody tr th:only-of-type {\n",
       "        vertical-align: middle;\n",
       "    }\n",
       "\n",
       "    .dataframe tbody tr th {\n",
       "        vertical-align: top;\n",
       "    }\n",
       "\n",
       "    .dataframe thead th {\n",
       "        text-align: right;\n",
       "    }\n",
       "</style>\n",
       "<table border=\"1\" class=\"dataframe\">\n",
       "  <thead>\n",
       "    <tr style=\"text-align: right;\">\n",
       "      <th></th>\n",
       "      <th>mean</th>\n",
       "      <th>median</th>\n",
       "    </tr>\n",
       "  </thead>\n",
       "  <tbody>\n",
       "    <tr>\n",
       "      <th>fixed acidity</th>\n",
       "      <td>8.311111</td>\n",
       "      <td>7.90000</td>\n",
       "    </tr>\n",
       "    <tr>\n",
       "      <th>volatile acidity</th>\n",
       "      <td>0.531339</td>\n",
       "      <td>0.52000</td>\n",
       "    </tr>\n",
       "    <tr>\n",
       "      <th>citric acid</th>\n",
       "      <td>0.268364</td>\n",
       "      <td>0.25000</td>\n",
       "    </tr>\n",
       "    <tr>\n",
       "      <th>residual sugar</th>\n",
       "      <td>2.532152</td>\n",
       "      <td>2.20000</td>\n",
       "    </tr>\n",
       "    <tr>\n",
       "      <th>chlorides</th>\n",
       "      <td>0.086933</td>\n",
       "      <td>0.07900</td>\n",
       "    </tr>\n",
       "    <tr>\n",
       "      <th>free sulfur dioxide</th>\n",
       "      <td>15.615486</td>\n",
       "      <td>13.00000</td>\n",
       "    </tr>\n",
       "    <tr>\n",
       "      <th>total sulfur dioxide</th>\n",
       "      <td>45.914698</td>\n",
       "      <td>37.00000</td>\n",
       "    </tr>\n",
       "    <tr>\n",
       "      <th>density</th>\n",
       "      <td>0.996730</td>\n",
       "      <td>0.99668</td>\n",
       "    </tr>\n",
       "    <tr>\n",
       "      <th>pH</th>\n",
       "      <td>3.311015</td>\n",
       "      <td>3.31000</td>\n",
       "    </tr>\n",
       "    <tr>\n",
       "      <th>sulphates</th>\n",
       "      <td>0.657708</td>\n",
       "      <td>0.62000</td>\n",
       "    </tr>\n",
       "    <tr>\n",
       "      <th>alcohol</th>\n",
       "      <td>10.442111</td>\n",
       "      <td>10.20000</td>\n",
       "    </tr>\n",
       "    <tr>\n",
       "      <th>quality</th>\n",
       "      <td>5.657043</td>\n",
       "      <td>6.00000</td>\n",
       "    </tr>\n",
       "    <tr>\n",
       "      <th>Id</th>\n",
       "      <td>804.969379</td>\n",
       "      <td>794.00000</td>\n",
       "    </tr>\n",
       "  </tbody>\n",
       "</table>\n",
       "</div>"
      ],
      "text/plain": [
       "                            mean     median\n",
       "fixed acidity           8.311111    7.90000\n",
       "volatile acidity        0.531339    0.52000\n",
       "citric acid             0.268364    0.25000\n",
       "residual sugar          2.532152    2.20000\n",
       "chlorides               0.086933    0.07900\n",
       "free sulfur dioxide    15.615486   13.00000\n",
       "total sulfur dioxide   45.914698   37.00000\n",
       "density                 0.996730    0.99668\n",
       "pH                      3.311015    3.31000\n",
       "sulphates               0.657708    0.62000\n",
       "alcohol                10.442111   10.20000\n",
       "quality                 5.657043    6.00000\n",
       "Id                    804.969379  794.00000"
      ]
     },
     "execution_count": 8,
     "metadata": {},
     "output_type": "execute_result"
    }
   ],
   "source": [
    "summary"
   ]
  },
  {
   "cell_type": "markdown",
   "id": "cf3ac616",
   "metadata": {
    "papermill": {
     "duration": 0.004755,
     "end_time": "2025-09-07T22:15:30.082651",
     "exception": false,
     "start_time": "2025-09-07T22:15:30.077896",
     "status": "completed"
    },
    "tags": []
   },
   "source": [
    "**NaN Control**"
   ]
  },
  {
   "cell_type": "code",
   "execution_count": 9,
   "id": "8ccae2ad",
   "metadata": {
    "execution": {
     "iopub.execute_input": "2025-09-07T22:15:30.094091Z",
     "iopub.status.busy": "2025-09-07T22:15:30.093737Z",
     "iopub.status.idle": "2025-09-07T22:15:30.101662Z",
     "shell.execute_reply": "2025-09-07T22:15:30.100548Z"
    },
    "papermill": {
     "duration": 0.015571,
     "end_time": "2025-09-07T22:15:30.103367",
     "exception": false,
     "start_time": "2025-09-07T22:15:30.087796",
     "status": "completed"
    },
    "tags": []
   },
   "outputs": [
    {
     "data": {
      "text/plain": [
       "fixed acidity           0\n",
       "volatile acidity        0\n",
       "citric acid             0\n",
       "residual sugar          0\n",
       "chlorides               0\n",
       "free sulfur dioxide     0\n",
       "total sulfur dioxide    0\n",
       "density                 0\n",
       "pH                      0\n",
       "sulphates               0\n",
       "alcohol                 0\n",
       "quality                 0\n",
       "Id                      0\n",
       "dtype: int64"
      ]
     },
     "execution_count": 9,
     "metadata": {},
     "output_type": "execute_result"
    }
   ],
   "source": [
    "df.isna().sum()"
   ]
  },
  {
   "cell_type": "markdown",
   "id": "a3885541",
   "metadata": {
    "papermill": {
     "duration": 0.004441,
     "end_time": "2025-09-07T22:15:30.112809",
     "exception": false,
     "start_time": "2025-09-07T22:15:30.108368",
     "status": "completed"
    },
    "tags": []
   },
   "source": [
    "**Drop Id**"
   ]
  },
  {
   "cell_type": "code",
   "execution_count": 10,
   "id": "c1fe3c22",
   "metadata": {
    "execution": {
     "iopub.execute_input": "2025-09-07T22:15:30.124060Z",
     "iopub.status.busy": "2025-09-07T22:15:30.123670Z",
     "iopub.status.idle": "2025-09-07T22:15:30.133426Z",
     "shell.execute_reply": "2025-09-07T22:15:30.132428Z"
    },
    "papermill": {
     "duration": 0.017921,
     "end_time": "2025-09-07T22:15:30.135382",
     "exception": false,
     "start_time": "2025-09-07T22:15:30.117461",
     "status": "completed"
    },
    "tags": []
   },
   "outputs": [],
   "source": [
    "df=df.drop(['Id'],axis=1)"
   ]
  },
  {
   "cell_type": "markdown",
   "id": "7a066e14",
   "metadata": {
    "papermill": {
     "duration": 0.004707,
     "end_time": "2025-09-07T22:15:30.145103",
     "exception": false,
     "start_time": "2025-09-07T22:15:30.140396",
     "status": "completed"
    },
    "tags": []
   },
   "source": [
    "# Alcohol Category Create"
   ]
  },
  {
   "cell_type": "code",
   "execution_count": 11,
   "id": "99a81008",
   "metadata": {
    "execution": {
     "iopub.execute_input": "2025-09-07T22:15:30.156526Z",
     "iopub.status.busy": "2025-09-07T22:15:30.156168Z",
     "iopub.status.idle": "2025-09-07T22:15:30.163799Z",
     "shell.execute_reply": "2025-09-07T22:15:30.162207Z"
    },
    "papermill": {
     "duration": 0.015504,
     "end_time": "2025-09-07T22:15:30.165847",
     "exception": false,
     "start_time": "2025-09-07T22:15:30.150343",
     "status": "completed"
    },
    "tags": []
   },
   "outputs": [],
   "source": [
    "def alcohol_category(alc):\n",
    "    if alc >= 10.2:\n",
    "        return \"high alcohol\"\n",
    "    else:\n",
    "        return \"low alcohol\"\n",
    "\n",
    "df[\"alcohol_ratio\"] = df[\"alcohol\"].apply(alcohol_category)\n",
    "        "
   ]
  },
  {
   "cell_type": "markdown",
   "id": "4edbf76a",
   "metadata": {
    "papermill": {
     "duration": 0.004564,
     "end_time": "2025-09-07T22:15:30.176423",
     "exception": false,
     "start_time": "2025-09-07T22:15:30.171859",
     "status": "completed"
    },
    "tags": []
   },
   "source": [
    "# Correlation"
   ]
  },
  {
   "cell_type": "code",
   "execution_count": 12,
   "id": "350e898b",
   "metadata": {
    "execution": {
     "iopub.execute_input": "2025-09-07T22:15:30.187221Z",
     "iopub.status.busy": "2025-09-07T22:15:30.186912Z",
     "iopub.status.idle": "2025-09-07T22:15:31.159034Z",
     "shell.execute_reply": "2025-09-07T22:15:31.157810Z"
    },
    "papermill": {
     "duration": 0.981476,
     "end_time": "2025-09-07T22:15:31.162637",
     "exception": false,
     "start_time": "2025-09-07T22:15:30.181161",
     "status": "completed"
    },
    "tags": []
   },
   "outputs": [
    {
     "data": {
      "text/plain": [
       "Text(0.5, 1.0, 'Correlation Heatmap')"
      ]
     },
     "execution_count": 12,
     "metadata": {},
     "output_type": "execute_result"
    },
    {
     "data": {
      "image/png": "[encoded data removed]",
      "text/plain": [
       "<Figure size 1600x600 with 2 Axes>"
      ]
     },
     "metadata": {},
     "output_type": "display_data"
    }
   ],
   "source": [
    "plt.figure(figsize=(16,6))\n",
    "heatmap = sns.heatmap(df.corr(numeric_only=True), vmin=-1, vmax=1, annot=True, linewidths = 0.5,fmt='.1f',cmap = 'BrBG')\n",
    "heatmap.set_title('Correlation Heatmap',fontdict={'fontsize':18}, pad=12)\n"
   ]
  },
  {
   "cell_type": "code",
   "execution_count": 13,
   "id": "8a355bed",
   "metadata": {
    "execution": {
     "iopub.execute_input": "2025-09-07T22:15:31.179510Z",
     "iopub.status.busy": "2025-09-07T22:15:31.178502Z",
     "iopub.status.idle": "2025-09-07T22:15:31.185983Z",
     "shell.execute_reply": "2025-09-07T22:15:31.184834Z"
    },
    "papermill": {
     "duration": 0.018093,
     "end_time": "2025-09-07T22:15:31.188118",
     "exception": false,
     "start_time": "2025-09-07T22:15:31.170025",
     "status": "completed"
    },
    "tags": []
   },
   "outputs": [
    {
     "name": "stdout",
     "output_type": "stream",
     "text": [
      "High Alcohol: 575 \n",
      "Low Alcohol: 568\n"
     ]
    }
   ],
   "source": [
    "high_alc_values= (df['alcohol_ratio'] == 'high alcohol').sum()\n",
    "low_alc_values= (df['alcohol_ratio'] == 'low alcohol').sum()\n",
    "print(f\"High Alcohol: {high_alc_values} \\nLow Alcohol: {low_alc_values}\")"
   ]
  }
 ],
 "metadata": {
  "kaggle": {
   "accelerator": "none",
   "dataSources": [
    {
     "datasetId": 1866301,
     "sourceId": 3047725,
     "sourceType": "datasetVersion"
    }
   ],
   "dockerImageVersionId": 31089,
   "isGpuEnabled": false,
   "isInternetEnabled": true,
   "language": "python",
   "sourceType": "notebook"
  },
  "kernelspec": {
   "display_name": "Python 3",
   "language": "python",
   "name": "python3"
  },
  "language_info": {
   "codemirror_mode": {
    "name": "ipython",
    "version": 3
   },
   "file_extension": ".py",
   "mimetype": "text/x-python",
   "name": "python",
   "nbconvert_exporter": "python",
   "pygments_lexer": "ipython3",
   "version": "3.11.13"
  },
  "papermill": {
   "default_parameters": {},
   "duration": 12.980755,
   "end_time": "2025-09-07T22:15:31.818016",
   "environment_variables": {},
   "exception": null,
   "input_path": "__notebook__.ipynb",
   "output_path": "__notebook__.ipynb",
   "parameters": {},
   "start_time": "2025-09-07T22:15:18.837261",
   "version": "2.6.0"
  }
 },
 "nbformat": 4,
 "nbformat_minor": 5
}
